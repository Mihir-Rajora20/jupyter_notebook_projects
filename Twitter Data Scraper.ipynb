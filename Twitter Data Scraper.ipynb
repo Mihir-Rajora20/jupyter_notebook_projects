{
 "cells": [
  {
   "cell_type": "markdown",
   "metadata": {},
   "source": [
    "# Twitter Data Extraction\n",
    "**Using Tweepy module for Python**    \n",
    "For this assignment, we conduct a data extraction and analysis of the tweets on the current jailing of the activist Safoora Zargar, where everyone is demanding her release due to her pregnancy and dangers to her life due to the ongoing pandemic and her unsafe conditions that require medical attention.  \n",
    "Reference Articles:  \n",
    "https://towardsdatascience.com/analysis-of-tweets-on-the-hong-kong-protest-movement-2019-with-python-a331851f061  \n",
    "https://towardsdatascience.com/extracting-twitter-data-pre-processing-and-sentiment-analysis-using-python-3-0-7192bd8b47cf"
   ]
  },
  {
   "cell_type": "code",
   "execution_count": 14,
   "metadata": {},
   "outputs": [],
   "source": [
    "import tweepy\n",
    "import json\n",
    "import pandas as pd\n",
    "import string\n",
    "import os\n",
    "import json\n",
    "import re\n",
    "import numpy as np\n",
    "from textblob import TextBlob\n",
    "import os\n",
    "import time\n",
    "import nltk\n",
    "from nltk.corpus import stopwords\n",
    "stop_words=stopwords.words('english')\n",
    "stop_words.extend(['https','www','.com','com'])\n",
    "import matplotlib.pyplot as plt\n",
    "%matplotlib inline\n",
    "import seaborn as sns\n",
    "from sklearn.feature_extraction.text import TfidfVectorizer, CountVectorizer\n",
    "from sklearn.preprocessing import StandardScaler"
   ]
  },
  {
   "cell_type": "code",
   "execution_count": 2,
   "metadata": {},
   "outputs": [],
   "source": [
    "#Twitter credentials\n",
    "consumer_key = '#############'\n",
    "consumer_secret = '##########'\n",
    "access_key= '#########'\n",
    "access_secret = '#########'"
   ]
  },
  {
   "cell_type": "markdown",
   "metadata": {},
   "source": [
    "## Pass your credentials to the Tweepy API to gain access to data on twitter"
   ]
  },
  {
   "cell_type": "code",
   "execution_count": 3,
   "metadata": {},
   "outputs": [],
   "source": [
    "# Pass twitter credentials\n",
    "auth = tweepy.OAuthHandler(consumer_key, consumer_secret)\n",
    "auth.set_access_token(access_key, access_secret)\n",
    "api = tweepy.API(auth)"
   ]
  },
  {
   "cell_type": "markdown",
   "metadata": {},
   "source": [
    "## Extracting Data\n",
    "*Data is extracted by searching for a list of hashtags(sear_words).  \n",
    "  \n",
    "*Tweepy has an upper limit on the number of posts that can be extracted in a given timeframe(approximately 2500 posts per 15 minutes)    \n",
    "  \n",
    "*Data is therefore extracted in segments. Approximately 2000 tweets are extracted in one run and then a 7.5 minutes sleep time is implemented in the function\n",
    "\n",
    "## Analyzing Data subjectivity and Polarity\n",
    "We use TextBlob module to get an approximate idea of the subjectivity and polarity of tweets in a general basis."
   ]
  },
  {
   "cell_type": "code",
   "execution_count": 38,
   "metadata": {},
   "outputs": [],
   "source": [
    "def scraptweets(search_words,date_since,numTweets,numRuns):\n",
    "    db_tweets=pd.DataFrame(columns=['username','acctdesc','location','following',\n",
    "                                    'followers','totaltweets','usercreatedts','tweetcreatedts','retweetcount','text','hashtags',\n",
    "                                   'polarity'])\n",
    "    master_dict={'username':[],'acctdesc':[],'location':[],'following':[],\n",
    "                                    'followers':[],'totaltweets':[],'usercreatedts':[],\n",
    "                 'tweetcreatedts':[],'retweetcount':[],'text':[],'hashtags':[],\n",
    "                                   'polarity':[],\"subjectivity\":[]}\n",
    "    program_start=time.time()\n",
    "    for i in range(0,numRuns):\n",
    "        start_run=time.time()\n",
    "        print(\"inside run number\",i)\n",
    "        tweets=tweepy.Cursor(api.search,q=search_words,lang=\"en\",since=date_since,tweet_mode='extended').items(numTweets)\n",
    "        print(\"tweets extracted\")\n",
    "        #store the tweets into a python list\n",
    "        tweet_list=[tweet for tweet in tweets]\n",
    "        noTweets=0\n",
    "        for tweet in tweet_list:\n",
    "            username=tweet.user.screen_name\n",
    "            acctdesc=tweet.user.description\n",
    "            location=tweet.user.location\n",
    "            following=tweet.user.friends_count\n",
    "            followers=tweet.user.followers_count\n",
    "            totaltweets=tweet.user.statuses_count\n",
    "            usercreatedts=tweet.user.created_at\n",
    "            tweetcreatedts=tweet.created_at\n",
    "            retweetcount=tweet.retweet_count\n",
    "            hashtags=tweet.entities['hashtags']\n",
    "            try:\n",
    "                text=tweet.retweeted_status.full_text\n",
    "            except AttributeError:\n",
    "                text=tweet.full_text\n",
    "            clean_text=clean_tweets(text)\n",
    "            blob=TextBlob(clean_text)\n",
    "            Sentiment=blob.sentiment\n",
    "            polarity=Sentiment.polarity\n",
    "            subjectivity=Sentiment.subjectivity\n",
    "            tweet_dict={'username':username,'acctdesc':acctdesc,'location':location,'following':following,\n",
    "                                    'followers':followers,'totaltweets':totaltweets,'usercreatedts':usercreatedts,\n",
    "                 'tweetcreatedts':tweetcreatedts,'retweetcount':retweetcount,'text':clean_text,'hashtags':hashtags,\n",
    "                                   'polarity':polarity,\"subjectivity\":subjectivity}\n",
    "            for key in master_dict.keys():\n",
    "                master_dict[key].append(tweet_dict[key])\n",
    "            noTweets+=1\n",
    "        end_run=time.time()\n",
    "        duration_run=round((end_run-start_run)/60,2)\n",
    "        print(\"no. of tweets scraped for run {} is {}\".format(i+1,noTweets))\n",
    "        print(\"time taken for {} run to complete is {} mins\".format(i+1,duration_run))\n",
    "        time.sleep(450)\n",
    "    return master_dict"
   ]
  },
  {
   "cell_type": "code",
   "execution_count": 39,
   "metadata": {},
   "outputs": [],
   "source": [
    "search_words=\"#SafooraZarfar OR #safoorazargar OR #ReleaseSafooraZargar OR #pregnant OR #ReleaseSafooraZargar\"\n",
    "date_since=\"2020-6-06\"\n",
    "numTweets=2500\n",
    "numRuns=4"
   ]
  },
  {
   "cell_type": "code",
   "execution_count": 44,
   "metadata": {},
   "outputs": [
    {
     "name": "stdout",
     "output_type": "stream",
     "text": [
      "inside run number 0\n",
      "tweets extracted\n",
      "no. of tweets scraped for run 1 is 1500\n",
      "time taken for 1 run to complete is 2.22 mins\n",
      "inside run number 1\n",
      "tweets extracted\n",
      "no. of tweets scraped for run 2 is 1500\n",
      "time taken for 2 run to complete is 2.34 mins\n",
      "inside run number 2\n",
      "tweets extracted\n",
      "no. of tweets scraped for run 3 is 1500\n",
      "time taken for 3 run to complete is 2.43 mins\n",
      "inside run number 3\n",
      "tweets extracted\n",
      "no. of tweets scraped for run 4 is 1500\n",
      "time taken for 4 run to complete is 2.32 mins\n"
     ]
    }
   ],
   "source": [
    "second_dict=scraptweets(search_words,date_since,1500,numRuns)"
   ]
  },
  {
   "cell_type": "code",
   "execution_count": 41,
   "metadata": {},
   "outputs": [],
   "source": [
    "final_df=pd.DataFrame(final_dict)"
   ]
  },
  {
   "cell_type": "markdown",
   "metadata": {},
   "source": [
    "## Data Preprocessing\n",
    "### Cleaning the Text Data of the tweets\n",
    "Tweets are cleaned by removing their punctuations, non ASCII characters and removing stop words(extracted from NLTK) from the tweets to extract meaningful words."
   ]
  },
  {
   "cell_type": "markdown",
   "metadata": {},
   "source": [
    "### Emoji Encodings are compiled into a set to classify the emojis and possibly extract sentiments out of the same."
   ]
  },
  {
   "cell_type": "code",
   "execution_count": 3,
   "metadata": {},
   "outputs": [],
   "source": [
    "emoticons_happy = set([\n",
    "    ':-)', ':)', ';)', ':o)', ':]', ':3', ':c)', ':>', '=]', '8)', '=)', ':}',\n",
    "    ':^)', ':-D', ':D', '8-D', '8D', 'x-D', 'xD', 'X-D', 'XD', '=-D', '=D',\n",
    "    '=-3', '=3', ':-))', \":'-)\", \":')\", ':*', ':^*', '>:P', ':-P', ':P', 'X-P',\n",
    "    'x-p', 'xp', 'XP', ':-p', ':p', '=p', ':-b', ':b', '>:)', '>;)', '>:-)',\n",
    "    '<3'\n",
    "    ])\n",
    "emoticons_sad = set([\n",
    "    ':L', ':-/', '>:/', ':S', '>:[', ':@', ':-(', ':[', ':-||', '=L', ':<',\n",
    "    ':-[', ':-<', '=\\\\', '=/', '>:(', ':(', '>.<', \":'-(\", \":'(\", ':\\\\', ':-c',\n",
    "    ':c', ':{', '>:\\\\', ';('\n",
    "    ])\n",
    "emoji_pattern = re.compile(\"[\"\n",
    "         u\"\\U0001F600-\\U0001F64F\"  # emoticons\n",
    "         u\"\\U0001F300-\\U0001F5FF\"  # symbols & pictographs\n",
    "         u\"\\U0001F680-\\U0001F6FF\"  # transport & map symbols\n",
    "         u\"\\U0001F1E0-\\U0001F1FF\"  # flags (iOS)\n",
    "         u\"\\U00002702-\\U000027B0\"\n",
    "         u\"\\U000024C2-\\U0001F251\"\n",
    "         \"]+\", flags=re.UNICODE)\n",
    "emoticons = emoticons_happy.union(emoticons_sad)"
   ]
  },
  {
   "cell_type": "code",
   "execution_count": 26,
   "metadata": {},
   "outputs": [],
   "source": [
    "def clean_tweets(tweet):\n",
    "    stop_words = set(stopwords.words('english'))\n",
    "    word_tokens = word_tokenize(tweet)\n",
    "#after tweepy preprocessing the colon symbol left remain after      #removing mentions\n",
    "    tweet = re.sub(r':', '', tweet)\n",
    "    tweet = re.sub(r'‚Ä¶', '', tweet)\n",
    "#replace consecutive non-ASCII characters with a space\n",
    "    tweet = re.sub(r'[^\\x00-\\x7F]+',' ', tweet)\n",
    "#remove emojis from tweet\n",
    "    tweet = emoji_pattern.sub(r'', tweet)\n",
    "#filter using NLTK library append it to a string\n",
    "    filtered_tweet = [w for w in word_tokens if not w in stop_words]\n",
    "    filtered_tweet = []\n",
    "#looping through conditions\n",
    "    for w in word_tokens:\n",
    "#check tokens against stop words , emoticons and punctuations\n",
    "        if w not in stop_words and w not in emoticons and w not in string.punctuation:\n",
    "            filtered_tweet.append(w)\n",
    "    return ' '.join(filtered_tweet)\n",
    "    #print(word_tokens)\n",
    "    #print(filtered_sentence)return tweet"
   ]
  },
  {
   "cell_type": "code",
   "execution_count": 42,
   "metadata": {},
   "outputs": [
    {
     "data": {
      "text/html": [
       "<div>\n",
       "<style scoped>\n",
       "    .dataframe tbody tr th:only-of-type {\n",
       "        vertical-align: middle;\n",
       "    }\n",
       "\n",
       "    .dataframe tbody tr th {\n",
       "        vertical-align: top;\n",
       "    }\n",
       "\n",
       "    .dataframe thead th {\n",
       "        text-align: right;\n",
       "    }\n",
       "</style>\n",
       "<table border=\"1\" class=\"dataframe\">\n",
       "  <thead>\n",
       "    <tr style=\"text-align: right;\">\n",
       "      <th></th>\n",
       "      <th>username</th>\n",
       "      <th>acctdesc</th>\n",
       "      <th>location</th>\n",
       "      <th>following</th>\n",
       "      <th>followers</th>\n",
       "      <th>totaltweets</th>\n",
       "      <th>usercreatedts</th>\n",
       "      <th>tweetcreatedts</th>\n",
       "      <th>retweetcount</th>\n",
       "      <th>text</th>\n",
       "      <th>hashtags</th>\n",
       "      <th>polarity</th>\n",
       "      <th>subjectivity</th>\n",
       "    </tr>\n",
       "  </thead>\n",
       "  <tbody>\n",
       "    <tr>\n",
       "      <td>0</td>\n",
       "      <td>DineshP01601197</td>\n",
       "      <td>राहुल गांधी आप अकेले भी बच जाएं पार्टी में तो ...</td>\n",
       "      <td>India</td>\n",
       "      <td>705</td>\n",
       "      <td>305</td>\n",
       "      <td>18793</td>\n",
       "      <td>2018-04-05 09:07:25</td>\n",
       "      <td>2020-06-12 13:24:22</td>\n",
       "      <td>146</td>\n",
       "      <td>Who Honest journalist Males ReleaseSafooraZargar</td>\n",
       "      <td>[{'text': 'ReleaseSafooraZargar', 'indices': [...</td>\n",
       "      <td>0.600000</td>\n",
       "      <td>0.900000</td>\n",
       "    </tr>\n",
       "    <tr>\n",
       "      <td>1</td>\n",
       "      <td>Pinaka78</td>\n",
       "      <td>JAI HIND. Indian First. RT/Likes may or may no...</td>\n",
       "      <td>RAS AL KHAIMAH</td>\n",
       "      <td>580</td>\n",
       "      <td>386</td>\n",
       "      <td>13685</td>\n",
       "      <td>2019-11-26 14:29:38</td>\n",
       "      <td>2020-06-12 13:24:16</td>\n",
       "      <td>223</td>\n",
       "      <td>Cute Also keep gainfully occupied SafooraZarga...</td>\n",
       "      <td>[{'text': 'SafooraZargar', 'indices': [62, 76]}]</td>\n",
       "      <td>0.333333</td>\n",
       "      <td>0.666667</td>\n",
       "    </tr>\n",
       "    <tr>\n",
       "      <td>2</td>\n",
       "      <td>Shyamalgangul14</td>\n",
       "      <td>https://t.co/htGXH4zxcF from Calcutta University.</td>\n",
       "      <td>24 Pgs. Bengal, India.</td>\n",
       "      <td>104</td>\n",
       "      <td>114</td>\n",
       "      <td>9031</td>\n",
       "      <td>2018-12-29 18:37:17</td>\n",
       "      <td>2020-06-12 13:24:06</td>\n",
       "      <td>146</td>\n",
       "      <td>Who Honest journalist Males ReleaseSafooraZargar</td>\n",
       "      <td>[{'text': 'ReleaseSafooraZargar', 'indices': [...</td>\n",
       "      <td>0.600000</td>\n",
       "      <td>0.900000</td>\n",
       "    </tr>\n",
       "    <tr>\n",
       "      <td>3</td>\n",
       "      <td>MukarramRuhul</td>\n",
       "      <td>चले थे हलवा खाने मुंह ही जल गया</td>\n",
       "      <td>Katihar, India</td>\n",
       "      <td>94</td>\n",
       "      <td>16</td>\n",
       "      <td>271</td>\n",
       "      <td>2019-01-23 09:03:11</td>\n",
       "      <td>2020-06-12 13:23:51</td>\n",
       "      <td>6</td>\n",
       "      <td>ReleaseSafooraZargar ReleaseSafooraZargar She ...</td>\n",
       "      <td>[{'text': 'ReleaseSafooraZargar', 'indices': [...</td>\n",
       "      <td>0.233333</td>\n",
       "      <td>0.562963</td>\n",
       "    </tr>\n",
       "    <tr>\n",
       "      <td>4</td>\n",
       "      <td>amir581498</td>\n",
       "      <td>sach ki hamesha jeet hoti hai. likes &amp; RTs do ...</td>\n",
       "      <td></td>\n",
       "      <td>778</td>\n",
       "      <td>168</td>\n",
       "      <td>3650</td>\n",
       "      <td>2009-09-05 04:50:33</td>\n",
       "      <td>2020-06-12 13:23:33</td>\n",
       "      <td>0</td>\n",
       "      <td>RELEASE SAFOORA ZARGAR That 's 's tweet Releas...</td>\n",
       "      <td>[{'text': 'ReleaseSafooraZargar', 'indices': [...</td>\n",
       "      <td>0.000000</td>\n",
       "      <td>0.000000</td>\n",
       "    </tr>\n",
       "    <tr>\n",
       "      <td>...</td>\n",
       "      <td>...</td>\n",
       "      <td>...</td>\n",
       "      <td>...</td>\n",
       "      <td>...</td>\n",
       "      <td>...</td>\n",
       "      <td>...</td>\n",
       "      <td>...</td>\n",
       "      <td>...</td>\n",
       "      <td>...</td>\n",
       "      <td>...</td>\n",
       "      <td>...</td>\n",
       "      <td>...</td>\n",
       "      <td>...</td>\n",
       "    </tr>\n",
       "    <tr>\n",
       "      <td>3995</td>\n",
       "      <td>JPThailand2</td>\n",
       "      <td>मुसलमान भाजपा का शिकार नहीं हैं, बल्कि चारा है...</td>\n",
       "      <td>Thailand</td>\n",
       "      <td>4894</td>\n",
       "      <td>2085</td>\n",
       "      <td>3098</td>\n",
       "      <td>2018-10-25 09:08:58</td>\n",
       "      <td>2020-06-12 11:47:43</td>\n",
       "      <td>155</td>\n",
       "      <td>Who Honest journalist Males ReleaseSafooraZargar</td>\n",
       "      <td>[{'text': 'ReleaseSafooraZargar', 'indices': [...</td>\n",
       "      <td>0.600000</td>\n",
       "      <td>0.900000</td>\n",
       "    </tr>\n",
       "    <tr>\n",
       "      <td>3996</td>\n",
       "      <td>aitzazahmad22</td>\n",
       "      <td></td>\n",
       "      <td></td>\n",
       "      <td>193</td>\n",
       "      <td>37</td>\n",
       "      <td>285</td>\n",
       "      <td>2020-02-10 19:49:47</td>\n",
       "      <td>2020-06-12 11:47:06</td>\n",
       "      <td>1</td>\n",
       "      <td>Safoora Zargar released protesting crime India...</td>\n",
       "      <td>[{'text': 'ReleaseSafooraZargar', 'indices': [...</td>\n",
       "      <td>0.000000</td>\n",
       "      <td>0.000000</td>\n",
       "    </tr>\n",
       "    <tr>\n",
       "      <td>3997</td>\n",
       "      <td>salimkasmani</td>\n",
       "      <td>SUBHANALLAHI WA BIHAMDIHI SUBHANALLAHIL- AZHEEM</td>\n",
       "      <td>Khobar KSA 🇸🇦🇵🇭🇮🇳</td>\n",
       "      <td>363</td>\n",
       "      <td>36</td>\n",
       "      <td>4573</td>\n",
       "      <td>2010-03-03 05:00:26</td>\n",
       "      <td>2020-06-12 11:46:53</td>\n",
       "      <td>0</td>\n",
       "      <td>ReleaseSafooraZargar Safoora Zargar released p...</td>\n",
       "      <td>[{'text': 'ReleaseSafooraZargar', 'indices': [...</td>\n",
       "      <td>0.000000</td>\n",
       "      <td>0.000000</td>\n",
       "    </tr>\n",
       "    <tr>\n",
       "      <td>3998</td>\n",
       "      <td>AbbuTalib8</td>\n",
       "      <td></td>\n",
       "      <td>Hyderabad, India</td>\n",
       "      <td>146</td>\n",
       "      <td>13</td>\n",
       "      <td>82</td>\n",
       "      <td>2017-05-08 16:18:41</td>\n",
       "      <td>2020-06-12 11:46:09</td>\n",
       "      <td>1</td>\n",
       "      <td>Pregnant women detained even war zones But Saf...</td>\n",
       "      <td>[{'text': 'ReleaseSafooraZargar', 'indices': [...</td>\n",
       "      <td>0.311111</td>\n",
       "      <td>0.466667</td>\n",
       "    </tr>\n",
       "    <tr>\n",
       "      <td>3999</td>\n",
       "      <td>Ans_9860</td>\n",
       "      <td>||The Only Official Account  ||               ...</td>\n",
       "      <td>Lucknow, India</td>\n",
       "      <td>271</td>\n",
       "      <td>36</td>\n",
       "      <td>463</td>\n",
       "      <td>2018-02-28 12:25:18</td>\n",
       "      <td>2020-06-12 11:46:04</td>\n",
       "      <td>0</td>\n",
       "      <td>Is difference two pics ReleaseSafooraZargar ht...</td>\n",
       "      <td>[{'text': 'ReleaseSafooraZargar', 'indices': [...</td>\n",
       "      <td>0.000000</td>\n",
       "      <td>0.000000</td>\n",
       "    </tr>\n",
       "  </tbody>\n",
       "</table>\n",
       "<p>4000 rows × 13 columns</p>\n",
       "</div>"
      ],
      "text/plain": [
       "             username                                           acctdesc  \\\n",
       "0     DineshP01601197  राहुल गांधी आप अकेले भी बच जाएं पार्टी में तो ...   \n",
       "1            Pinaka78  JAI HIND. Indian First. RT/Likes may or may no...   \n",
       "2     Shyamalgangul14  https://t.co/htGXH4zxcF from Calcutta University.   \n",
       "3       MukarramRuhul                    चले थे हलवा खाने मुंह ही जल गया   \n",
       "4          amir581498  sach ki hamesha jeet hoti hai. likes & RTs do ...   \n",
       "...               ...                                                ...   \n",
       "3995      JPThailand2  मुसलमान भाजपा का शिकार नहीं हैं, बल्कि चारा है...   \n",
       "3996    aitzazahmad22                                                      \n",
       "3997     salimkasmani    SUBHANALLAHI WA BIHAMDIHI SUBHANALLAHIL- AZHEEM   \n",
       "3998       AbbuTalib8                                                      \n",
       "3999         Ans_9860  ||The Only Official Account  ||               ...   \n",
       "\n",
       "                    location  following  followers  totaltweets  \\\n",
       "0                      India        705        305        18793   \n",
       "1             RAS AL KHAIMAH        580        386        13685   \n",
       "2     24 Pgs. Bengal, India.        104        114         9031   \n",
       "3             Katihar, India         94         16          271   \n",
       "4                                   778        168         3650   \n",
       "...                      ...        ...        ...          ...   \n",
       "3995               Thailand        4894       2085         3098   \n",
       "3996                                193         37          285   \n",
       "3997       Khobar KSA 🇸🇦🇵🇭🇮🇳        363         36         4573   \n",
       "3998        Hyderabad, India        146         13           82   \n",
       "3999          Lucknow, India        271         36          463   \n",
       "\n",
       "           usercreatedts      tweetcreatedts  retweetcount  \\\n",
       "0    2018-04-05 09:07:25 2020-06-12 13:24:22           146   \n",
       "1    2019-11-26 14:29:38 2020-06-12 13:24:16           223   \n",
       "2    2018-12-29 18:37:17 2020-06-12 13:24:06           146   \n",
       "3    2019-01-23 09:03:11 2020-06-12 13:23:51             6   \n",
       "4    2009-09-05 04:50:33 2020-06-12 13:23:33             0   \n",
       "...                  ...                 ...           ...   \n",
       "3995 2018-10-25 09:08:58 2020-06-12 11:47:43           155   \n",
       "3996 2020-02-10 19:49:47 2020-06-12 11:47:06             1   \n",
       "3997 2010-03-03 05:00:26 2020-06-12 11:46:53             0   \n",
       "3998 2017-05-08 16:18:41 2020-06-12 11:46:09             1   \n",
       "3999 2018-02-28 12:25:18 2020-06-12 11:46:04             0   \n",
       "\n",
       "                                                   text  \\\n",
       "0      Who Honest journalist Males ReleaseSafooraZargar   \n",
       "1     Cute Also keep gainfully occupied SafooraZarga...   \n",
       "2      Who Honest journalist Males ReleaseSafooraZargar   \n",
       "3     ReleaseSafooraZargar ReleaseSafooraZargar She ...   \n",
       "4     RELEASE SAFOORA ZARGAR That 's 's tweet Releas...   \n",
       "...                                                 ...   \n",
       "3995   Who Honest journalist Males ReleaseSafooraZargar   \n",
       "3996  Safoora Zargar released protesting crime India...   \n",
       "3997  ReleaseSafooraZargar Safoora Zargar released p...   \n",
       "3998  Pregnant women detained even war zones But Saf...   \n",
       "3999  Is difference two pics ReleaseSafooraZargar ht...   \n",
       "\n",
       "                                               hashtags  polarity  \\\n",
       "0     [{'text': 'ReleaseSafooraZargar', 'indices': [...  0.600000   \n",
       "1      [{'text': 'SafooraZargar', 'indices': [62, 76]}]  0.333333   \n",
       "2     [{'text': 'ReleaseSafooraZargar', 'indices': [...  0.600000   \n",
       "3     [{'text': 'ReleaseSafooraZargar', 'indices': [...  0.233333   \n",
       "4     [{'text': 'ReleaseSafooraZargar', 'indices': [...  0.000000   \n",
       "...                                                 ...       ...   \n",
       "3995  [{'text': 'ReleaseSafooraZargar', 'indices': [...  0.600000   \n",
       "3996  [{'text': 'ReleaseSafooraZargar', 'indices': [...  0.000000   \n",
       "3997  [{'text': 'ReleaseSafooraZargar', 'indices': [...  0.000000   \n",
       "3998  [{'text': 'ReleaseSafooraZargar', 'indices': [...  0.311111   \n",
       "3999  [{'text': 'ReleaseSafooraZargar', 'indices': [...  0.000000   \n",
       "\n",
       "      subjectivity  \n",
       "0         0.900000  \n",
       "1         0.666667  \n",
       "2         0.900000  \n",
       "3         0.562963  \n",
       "4         0.000000  \n",
       "...            ...  \n",
       "3995      0.900000  \n",
       "3996      0.000000  \n",
       "3997      0.000000  \n",
       "3998      0.466667  \n",
       "3999      0.000000  \n",
       "\n",
       "[4000 rows x 13 columns]"
      ]
     },
     "execution_count": 42,
     "metadata": {},
     "output_type": "execute_result"
    }
   ],
   "source": [
    "final_df"
   ]
  },
  {
   "cell_type": "code",
   "execution_count": 43,
   "metadata": {},
   "outputs": [],
   "source": [
    "final_df.to_excel('4000tweets.xlsx')"
   ]
  },
  {
   "cell_type": "code",
   "execution_count": 45,
   "metadata": {},
   "outputs": [],
   "source": [
    "second_df=pd.DataFrame(second_dict)"
   ]
  },
  {
   "cell_type": "code",
   "execution_count": null,
   "metadata": {},
   "outputs": [],
   "source": []
  },
  {
   "cell_type": "code",
   "execution_count": 47,
   "metadata": {},
   "outputs": [],
   "source": [
    "second_df.to_excel(\"tweet_data_comp.xlsx\",index=False)"
   ]
  },
  {
   "cell_type": "code",
   "execution_count": null,
   "metadata": {},
   "outputs": [],
   "source": []
  },
  {
   "cell_type": "markdown",
   "metadata": {},
   "source": [
    "# Data Preprocessing"
   ]
  },
  {
   "cell_type": "code",
   "execution_count": 4,
   "metadata": {},
   "outputs": [],
   "source": [
    "data=pd.read_excel('tweet_data_comp.xlsx')\n"
   ]
  },
  {
   "cell_type": "code",
   "execution_count": null,
   "metadata": {},
   "outputs": [],
   "source": [
    "#dropping columns with null values\n",
    "data=data.drop(['acctdesc','location'],axis=1)"
   ]
  },
  {
   "cell_type": "markdown",
   "metadata": {},
   "source": [
    "## Applying hash function to the usernames to ensure privacy of the users."
   ]
  },
  {
   "cell_type": "code",
   "execution_count": 4,
   "metadata": {},
   "outputs": [],
   "source": [
    "# applying hash function to ensure privacy of usernames\n",
    "data['username']=data['username'].apply(lambda x: hash(x))"
   ]
  },
  {
   "cell_type": "markdown",
   "metadata": {},
   "source": [
    "#### Second Run of text preprocessing converting everything to lower cases and removing non alphabetic characters"
   ]
  },
  {
   "cell_type": "code",
   "execution_count": 5,
   "metadata": {},
   "outputs": [],
   "source": [
    "def remove_punct(text):\n",
    "    text  = \"\".join([char for char in text if char not in string.punctuation])\n",
    "    text = re.sub('[0-9]+', '', text)\n",
    "    word_removed=\" \".join([word.lower() for word in text.split() if word not in stop_words])\n",
    "    return word_removed"
   ]
  },
  {
   "cell_type": "code",
   "execution_count": null,
   "metadata": {},
   "outputs": [],
   "source": []
  },
  {
   "cell_type": "code",
   "execution_count": 120,
   "metadata": {},
   "outputs": [],
   "source": [
    "data['clean_text']=data['text'].apply(lambda x:remove_punct(x))"
   ]
  },
  {
   "cell_type": "code",
   "execution_count": 9,
   "metadata": {},
   "outputs": [],
   "source": [
    "top_tweets=data.groupby('username').count().sort_values(by='followers',ascending=False).head(50).index"
   ]
  },
  {
   "cell_type": "code",
   "execution_count": 10,
   "metadata": {},
   "outputs": [],
   "source": [
    "user_array=[]\n",
    "for i in top_tweets:\n",
    "    user_array.append(i)"
   ]
  },
  {
   "cell_type": "code",
   "execution_count": 11,
   "metadata": {},
   "outputs": [],
   "source": [
    "mean_data=data.groupby('username').mean()"
   ]
  },
  {
   "cell_type": "markdown",
   "metadata": {},
   "source": [
    "### Measure of polarity of the most famous tweets "
   ]
  },
  {
   "cell_type": "code",
   "execution_count": 12,
   "metadata": {},
   "outputs": [
    {
     "data": {
      "text/plain": [
       "<matplotlib.axes._subplots.AxesSubplot at 0x1e6ef01e208>"
      ]
     },
     "execution_count": 12,
     "metadata": {},
     "output_type": "execute_result"
    },
    {
     "data": {
      "image/png": "[encoded data removed]",
      "text/plain": [
       "<Figure size 864x576 with 2 Axes>"
      ]
     },
     "metadata": {
      "needs_background": "light"
     },
     "output_type": "display_data"
    }
   ],
   "source": [
    "plt.figure(figsize=(12,8))\n",
    "sns.heatmap(mean_data.loc[user_array][['polarity']].sort_values(by='polarity'))"
   ]
  },
  {
   "cell_type": "markdown",
   "metadata": {},
   "source": [
    "# Analyzing the relationships between data points\n",
    "The popularity of tweets on Twitter can be approximately measured by their number of retweets(or sharing of the tweetss).  \n",
    "We draw a scatter plot of **Retweetcount vs Polarity** of the post to see which kind of posts are more popular."
   ]
  },
  {
   "cell_type": "code",
   "execution_count": 13,
   "metadata": {},
   "outputs": [
    {
     "data": {
      "text/plain": [
       "<matplotlib.axes._subplots.AxesSubplot at 0x1e6f02fd748>"
      ]
     },
     "execution_count": 13,
     "metadata": {},
     "output_type": "execute_result"
    },
    {
     "data": {
      "image/png": "[encoded data removed]",
      "text/plain": [
       "<Figure size 864x576 with 1 Axes>"
      ]
     },
     "metadata": {
      "needs_background": "light"
     },
     "output_type": "display_data"
    }
   ],
   "source": [
    "plt.figure(figsize=(12,8))\n",
    "sns.scatterplot(x='polarity',y='retweetcount',data=data[data['retweetcount']<6000])"
   ]
  },
  {
   "cell_type": "markdown",
   "metadata": {},
   "source": [
    "## Plotting Word Counts:\n",
    "We extract the most popular words and hashtags used in these tweets and plot them on a bar graph. "
   ]
  },
  {
   "cell_type": "code",
   "execution_count": 73,
   "metadata": {},
   "outputs": [],
   "source": [
    "def plot_word_count(df,column):\n",
    "    CV=CountVectorizer()\n",
    "    vectorized_words=CV.fit_transform(df[column])\n",
    "    flair_count_df=pd.DataFrame(vectorized_words.toarray(),columns=CV.get_feature_names())\n",
    "    sorted_count=pd.DataFrame(flair_count_df.sum().sort_values(ascending=False).head(30))\n",
    "    plot_words([sorted_count])\n",
    "\n",
    "def plot_words(dataframes):\n",
    "    count = 0\n",
    "    fig = plt.figure(figsize=(10,6))\n",
    "    \n",
    "    for d, dataframe in enumerate(dataframes):\n",
    "        \n",
    "        count += 1\n",
    "        # Create the plot\n",
    "        sns.barplot(\n",
    "            x = 0,\n",
    "            y = dataframe.index,\n",
    "            data = dataframe,\n",
    "            palette = \"cubehelix\"\n",
    "        )\n",
    "        plt.xlabel(\"Frequency\")\n",
    "        plt.show()"
   ]
  },
  {
   "cell_type": "markdown",
   "metadata": {},
   "source": [
    "## Word Count of Original Text"
   ]
  },
  {
   "cell_type": "code",
   "execution_count": 121,
   "metadata": {},
   "outputs": [
    {
     "data": {
      "image/png": "[encoded data removed]",
      "text/plain": [
       "<Figure size 720x432 with 1 Axes>"
      ]
     },
     "metadata": {
      "needs_background": "light"
     },
     "output_type": "display_data"
    }
   ],
   "source": [
    "plot_word_count(data,'text')"
   ]
  },
  {
   "cell_type": "markdown",
   "metadata": {},
   "source": [
    "## Word Count of Hashtags"
   ]
  },
  {
   "cell_type": "code",
   "execution_count": 89,
   "metadata": {},
   "outputs": [
    {
     "data": {
      "image/png": "[encoded data removed]",
      "text/plain": [
       "<Figure size 720x432 with 1 Axes>"
      ]
     },
     "metadata": {
      "needs_background": "light"
     },
     "output_type": "display_data"
    }
   ],
   "source": [
    "plot_word_count(data[data['hashtags']!='No tags'],'hashtags')"
   ]
  },
  {
   "cell_type": "markdown",
   "metadata": {},
   "source": [
    "## Word Count of Processed Text Data"
   ]
  },
  {
   "cell_type": "code",
   "execution_count": 122,
   "metadata": {},
   "outputs": [
    {
     "data": {
      "image/png": "[encoded data removed]",
      "text/plain": [
       "<Figure size 720x432 with 1 Axes>"
      ]
     },
     "metadata": {
      "needs_background": "light"
     },
     "output_type": "display_data"
    }
   ],
   "source": [
    "plot_word_count(data,'clean_text')"
   ]
  },
  {
   "cell_type": "code",
   "execution_count": null,
   "metadata": {},
   "outputs": [],
   "source": []
  },
  {
   "cell_type": "code",
   "execution_count": null,
   "metadata": {},
   "outputs": [],
   "source": []
  },
  {
   "cell_type": "code",
   "execution_count": 129,
   "metadata": {},
   "outputs": [],
   "source": [
    "def extract_tags(x):\n",
    "    if x==[]:\n",
    "        return \"No tags\"\n",
    "    else:\n",
    "        x=x.replace(\"'\",\"\\\"\")\n",
    "        x=json.loads(x)\n",
    "        tag_list=[]\n",
    "        for i in x:\n",
    "            tag_list.append(i['text'])\n",
    "        return \" \".join(tag_list)"
   ]
  },
  {
   "cell_type": "code",
   "execution_count": 130,
   "metadata": {},
   "outputs": [
    {
     "data": {
      "text/plain": [
       "'pregnancy pregnant gowenpregnancy gowen sketchbook sketch art'"
      ]
     },
     "execution_count": 130,
     "metadata": {},
     "output_type": "execute_result"
    }
   ],
   "source": [
    "extract_tags(data['hashtags'].iloc[2])"
   ]
  },
  {
   "cell_type": "code",
   "execution_count": 131,
   "metadata": {},
   "outputs": [],
   "source": [
    "data['hashtags']=data['hashtags'].apply(lambda x:extract_tags(x))"
   ]
  },
  {
   "cell_type": "code",
   "execution_count": null,
   "metadata": {},
   "outputs": [],
   "source": []
  },
  {
   "cell_type": "code",
   "execution_count": 133,
   "metadata": {},
   "outputs": [],
   "source": [
    "indexes=[]\n",
    "for i in range(data.shape[0]):\n",
    "    if \"ebony\" in data.iloc[i]['hashtags'].split():\n",
    "        indexes.append(i)"
   ]
  },
  {
   "cell_type": "code",
   "execution_count": 134,
   "metadata": {},
   "outputs": [],
   "source": [
    "data=data.drop(indexes)"
   ]
  },
  {
   "cell_type": "code",
   "execution_count": 113,
   "metadata": {},
   "outputs": [
    {
     "data": {
      "text/plain": [
       "<seaborn.axisgrid.JointGrid at 0x1e6efb23da0>"
      ]
     },
     "execution_count": 113,
     "metadata": {},
     "output_type": "execute_result"
    },
    {
     "data": {
      "image/png": "[encoded data removed]",
      "text/plain": [
       "<Figure size 432x432 with 3 Axes>"
      ]
     },
     "metadata": {
      "needs_background": "light"
     },
     "output_type": "display_data"
    }
   ],
   "source": [
    "sns.jointplot(x='followers',y='retweetcount',data=data[(data['followers']<25000) &(data['retweetcount']<4000)])"
   ]
  },
  {
   "cell_type": "code",
   "execution_count": null,
   "metadata": {},
   "outputs": [],
   "source": []
  },
  {
   "cell_type": "code",
   "execution_count": 135,
   "metadata": {},
   "outputs": [
    {
     "data": {
      "text/plain": [
       "'Nalini LTTE assassin pregnant assassinated Rajiv Gandhi Was let pregnancy She gave birth prison RSS worker amp pregnant wife murdered Bengal one fought unborn Why fight safoorazargar pregnant'"
      ]
     },
     "execution_count": 135,
     "metadata": {},
     "output_type": "execute_result"
    }
   ],
   "source": [
    "data.sort_values(by='retweetcount',ascending=False).iloc[0]['text']"
   ]
  },
  {
   "cell_type": "code",
   "execution_count": 136,
   "metadata": {},
   "outputs": [
    {
     "data": {
      "text/plain": [
       "username                                             DibaiMustakeem\n",
       "following                                                       491\n",
       "followers                                                        93\n",
       "totaltweets                                                    1388\n",
       "usercreatedts                                   2020-04-29 18:23:05\n",
       "tweetcreatedts                                  2020-06-12 14:50:24\n",
       "retweetcount                                                   2208\n",
       "text              Safoora Zargar released protesting crime India...\n",
       "hashtags                                       ReleaseSafooraZargar\n",
       "polarity                                                          0\n",
       "subjectivity                                                      0\n",
       "clean_text        safoora zargar released protesting crime india...\n",
       "Name: 1571, dtype: object"
      ]
     },
     "execution_count": 136,
     "metadata": {},
     "output_type": "execute_result"
    }
   ],
   "source": [
    "data.iloc[1568]"
   ]
  },
  {
   "cell_type": "code",
   "execution_count": 137,
   "metadata": {},
   "outputs": [
    {
     "data": {
      "text/html": [
       "<div>\n",
       "<style scoped>\n",
       "    .dataframe tbody tr th:only-of-type {\n",
       "        vertical-align: middle;\n",
       "    }\n",
       "\n",
       "    .dataframe tbody tr th {\n",
       "        vertical-align: top;\n",
       "    }\n",
       "\n",
       "    .dataframe thead th {\n",
       "        text-align: right;\n",
       "    }\n",
       "</style>\n",
       "<table border=\"1\" class=\"dataframe\">\n",
       "  <thead>\n",
       "    <tr style=\"text-align: right;\">\n",
       "      <th></th>\n",
       "      <th>username</th>\n",
       "      <th>following</th>\n",
       "      <th>followers</th>\n",
       "      <th>totaltweets</th>\n",
       "      <th>usercreatedts</th>\n",
       "      <th>tweetcreatedts</th>\n",
       "      <th>retweetcount</th>\n",
       "      <th>text</th>\n",
       "      <th>hashtags</th>\n",
       "      <th>polarity</th>\n",
       "      <th>subjectivity</th>\n",
       "      <th>clean_text</th>\n",
       "    </tr>\n",
       "  </thead>\n",
       "  <tbody>\n",
       "    <tr>\n",
       "      <td>1568</td>\n",
       "      <td>MrRahulSharrma</td>\n",
       "      <td>125</td>\n",
       "      <td>32</td>\n",
       "      <td>1126</td>\n",
       "      <td>2011-10-16 06:22:52</td>\n",
       "      <td>2020-06-12 14:51:05</td>\n",
       "      <td>11217</td>\n",
       "      <td>Nalini LTTE assassin pregnant assassinated Raj...</td>\n",
       "      <td>pregnant</td>\n",
       "      <td>0.333333</td>\n",
       "      <td>0.500000</td>\n",
       "      <td>nalini ltte assassin pregnant assassinated raj...</td>\n",
       "    </tr>\n",
       "    <tr>\n",
       "      <td>4756</td>\n",
       "      <td>MrRahulSharrma</td>\n",
       "      <td>125</td>\n",
       "      <td>32</td>\n",
       "      <td>1126</td>\n",
       "      <td>2011-10-16 06:22:52</td>\n",
       "      <td>2020-06-12 14:51:05</td>\n",
       "      <td>11216</td>\n",
       "      <td>Nalini LTTE assassin pregnant assassinated Raj...</td>\n",
       "      <td>pregnant</td>\n",
       "      <td>0.333333</td>\n",
       "      <td>0.500000</td>\n",
       "      <td>nalini ltte assassin pregnant assassinated raj...</td>\n",
       "    </tr>\n",
       "    <tr>\n",
       "      <td>3162</td>\n",
       "      <td>MrRahulSharrma</td>\n",
       "      <td>125</td>\n",
       "      <td>32</td>\n",
       "      <td>1126</td>\n",
       "      <td>2011-10-16 06:22:52</td>\n",
       "      <td>2020-06-12 14:51:05</td>\n",
       "      <td>11215</td>\n",
       "      <td>Nalini LTTE assassin pregnant assassinated Raj...</td>\n",
       "      <td>pregnant</td>\n",
       "      <td>0.333333</td>\n",
       "      <td>0.500000</td>\n",
       "      <td>nalini ltte assassin pregnant assassinated raj...</td>\n",
       "    </tr>\n",
       "    <tr>\n",
       "      <td>3386</td>\n",
       "      <td>azmatmalik007</td>\n",
       "      <td>26</td>\n",
       "      <td>497</td>\n",
       "      <td>868</td>\n",
       "      <td>2013-01-16 17:28:38</td>\n",
       "      <td>2020-06-12 14:15:26</td>\n",
       "      <td>8727</td>\n",
       "      <td>safoorazargar deserves better Her unborn baby ...</td>\n",
       "      <td>safoorazargar</td>\n",
       "      <td>0.500000</td>\n",
       "      <td>0.500000</td>\n",
       "      <td>safoorazargar deserves better her unborn baby ...</td>\n",
       "    </tr>\n",
       "    <tr>\n",
       "      <td>4980</td>\n",
       "      <td>azmatmalik007</td>\n",
       "      <td>26</td>\n",
       "      <td>497</td>\n",
       "      <td>868</td>\n",
       "      <td>2013-01-16 17:28:38</td>\n",
       "      <td>2020-06-12 14:15:26</td>\n",
       "      <td>8727</td>\n",
       "      <td>safoorazargar deserves better Her unborn baby ...</td>\n",
       "      <td>safoorazargar</td>\n",
       "      <td>0.500000</td>\n",
       "      <td>0.500000</td>\n",
       "      <td>safoorazargar deserves better her unborn baby ...</td>\n",
       "    </tr>\n",
       "    <tr>\n",
       "      <td>...</td>\n",
       "      <td>...</td>\n",
       "      <td>...</td>\n",
       "      <td>...</td>\n",
       "      <td>...</td>\n",
       "      <td>...</td>\n",
       "      <td>...</td>\n",
       "      <td>...</td>\n",
       "      <td>...</td>\n",
       "      <td>...</td>\n",
       "      <td>...</td>\n",
       "      <td>...</td>\n",
       "      <td>...</td>\n",
       "    </tr>\n",
       "    <tr>\n",
       "      <td>2933</td>\n",
       "      <td>Mohamme64821222</td>\n",
       "      <td>14</td>\n",
       "      <td>0</td>\n",
       "      <td>5</td>\n",
       "      <td>2020-06-03 13:41:08</td>\n",
       "      <td>2020-06-12 11:27:33</td>\n",
       "      <td>0</td>\n",
       "      <td>We stand safoora🙋‍♂️ ReleaseSafooraZargar Rele...</td>\n",
       "      <td>ReleaseSafooraZargar ReleaseSafoora</td>\n",
       "      <td>0.000000</td>\n",
       "      <td>0.000000</td>\n",
       "      <td>we stand safoora🙋‍♂️ releasesafoorazargar rele...</td>\n",
       "    </tr>\n",
       "    <tr>\n",
       "      <td>2921</td>\n",
       "      <td>PregmaS</td>\n",
       "      <td>241</td>\n",
       "      <td>178</td>\n",
       "      <td>61</td>\n",
       "      <td>2019-09-12 18:58:32</td>\n",
       "      <td>2020-06-12 11:28:47</td>\n",
       "      <td>0</td>\n",
       "      <td>The classic symptoms morning sickness include ...</td>\n",
       "      <td>pregnant health breastfeeding FFF ICO ACA</td>\n",
       "      <td>0.250000</td>\n",
       "      <td>0.333333</td>\n",
       "      <td>the classic symptoms morning sickness include ...</td>\n",
       "    </tr>\n",
       "    <tr>\n",
       "      <td>2894</td>\n",
       "      <td>Soujugada</td>\n",
       "      <td>405</td>\n",
       "      <td>346</td>\n",
       "      <td>5129</td>\n",
       "      <td>2016-09-07 17:40:08</td>\n",
       "      <td>2020-06-12 11:32:15</td>\n",
       "      <td>0</td>\n",
       "      <td>UmmatEMuslima21 DrShakirjalgaon AbdurRahman_IP...</td>\n",
       "      <td>SafooraZargar</td>\n",
       "      <td>-0.358333</td>\n",
       "      <td>0.383333</td>\n",
       "      <td>ummatemuslima drshakirjalgaon abdurrahmanips a...</td>\n",
       "    </tr>\n",
       "    <tr>\n",
       "      <td>2857</td>\n",
       "      <td>Sarojiniranjani</td>\n",
       "      <td>422</td>\n",
       "      <td>594</td>\n",
       "      <td>44136</td>\n",
       "      <td>2016-02-05 10:53:10</td>\n",
       "      <td>2020-06-12 11:37:05</td>\n",
       "      <td>0</td>\n",
       "      <td>Gabbar0099 IndiasMuslims Subytweets khanumarfa...</td>\n",
       "      <td>BJP ModiMadeDisaster Safoora_Zargar SafooraZar...</td>\n",
       "      <td>-0.400000</td>\n",
       "      <td>0.750000</td>\n",
       "      <td>gabbar indiasmuslims subytweets khanumarfa lad...</td>\n",
       "    </tr>\n",
       "    <tr>\n",
       "      <td>5999</td>\n",
       "      <td>Sarojiniranjani</td>\n",
       "      <td>425</td>\n",
       "      <td>594</td>\n",
       "      <td>44147</td>\n",
       "      <td>2016-02-05 10:53:10</td>\n",
       "      <td>2020-06-12 11:42:01</td>\n",
       "      <td>0</td>\n",
       "      <td>Pregnant lady jailed unacceptable reasons show...</td>\n",
       "      <td>ModiMadeDisaster Safoora_Zargar SafooraZargar ...</td>\n",
       "      <td>0.333333</td>\n",
       "      <td>0.500000</td>\n",
       "      <td>pregnant lady jailed unacceptable reasons show...</td>\n",
       "    </tr>\n",
       "  </tbody>\n",
       "</table>\n",
       "<p>5988 rows × 12 columns</p>\n",
       "</div>"
      ],
      "text/plain": [
       "             username  following  followers  totaltweets       usercreatedts  \\\n",
       "1568   MrRahulSharrma        125         32         1126 2011-10-16 06:22:52   \n",
       "4756   MrRahulSharrma        125         32         1126 2011-10-16 06:22:52   \n",
       "3162   MrRahulSharrma        125         32         1126 2011-10-16 06:22:52   \n",
       "3386    azmatmalik007         26        497          868 2013-01-16 17:28:38   \n",
       "4980    azmatmalik007         26        497          868 2013-01-16 17:28:38   \n",
       "...               ...        ...        ...          ...                 ...   \n",
       "2933  Mohamme64821222         14          0            5 2020-06-03 13:41:08   \n",
       "2921          PregmaS        241        178           61 2019-09-12 18:58:32   \n",
       "2894        Soujugada        405        346         5129 2016-09-07 17:40:08   \n",
       "2857  Sarojiniranjani        422        594        44136 2016-02-05 10:53:10   \n",
       "5999  Sarojiniranjani        425        594        44147 2016-02-05 10:53:10   \n",
       "\n",
       "          tweetcreatedts  retweetcount  \\\n",
       "1568 2020-06-12 14:51:05         11217   \n",
       "4756 2020-06-12 14:51:05         11216   \n",
       "3162 2020-06-12 14:51:05         11215   \n",
       "3386 2020-06-12 14:15:26          8727   \n",
       "4980 2020-06-12 14:15:26          8727   \n",
       "...                  ...           ...   \n",
       "2933 2020-06-12 11:27:33             0   \n",
       "2921 2020-06-12 11:28:47             0   \n",
       "2894 2020-06-12 11:32:15             0   \n",
       "2857 2020-06-12 11:37:05             0   \n",
       "5999 2020-06-12 11:42:01             0   \n",
       "\n",
       "                                                   text  \\\n",
       "1568  Nalini LTTE assassin pregnant assassinated Raj...   \n",
       "4756  Nalini LTTE assassin pregnant assassinated Raj...   \n",
       "3162  Nalini LTTE assassin pregnant assassinated Raj...   \n",
       "3386  safoorazargar deserves better Her unborn baby ...   \n",
       "4980  safoorazargar deserves better Her unborn baby ...   \n",
       "...                                                 ...   \n",
       "2933  We stand safoora🙋‍♂️ ReleaseSafooraZargar Rele...   \n",
       "2921  The classic symptoms morning sickness include ...   \n",
       "2894  UmmatEMuslima21 DrShakirjalgaon AbdurRahman_IP...   \n",
       "2857  Gabbar0099 IndiasMuslims Subytweets khanumarfa...   \n",
       "5999  Pregnant lady jailed unacceptable reasons show...   \n",
       "\n",
       "                                               hashtags  polarity  \\\n",
       "1568                                           pregnant  0.333333   \n",
       "4756                                           pregnant  0.333333   \n",
       "3162                                           pregnant  0.333333   \n",
       "3386                                      safoorazargar  0.500000   \n",
       "4980                                      safoorazargar  0.500000   \n",
       "...                                                 ...       ...   \n",
       "2933                ReleaseSafooraZargar ReleaseSafoora  0.000000   \n",
       "2921          pregnant health breastfeeding FFF ICO ACA  0.250000   \n",
       "2894                                      SafooraZargar -0.358333   \n",
       "2857  BJP ModiMadeDisaster Safoora_Zargar SafooraZar... -0.400000   \n",
       "5999  ModiMadeDisaster Safoora_Zargar SafooraZargar ...  0.333333   \n",
       "\n",
       "      subjectivity                                         clean_text  \n",
       "1568      0.500000  nalini ltte assassin pregnant assassinated raj...  \n",
       "4756      0.500000  nalini ltte assassin pregnant assassinated raj...  \n",
       "3162      0.500000  nalini ltte assassin pregnant assassinated raj...  \n",
       "3386      0.500000  safoorazargar deserves better her unborn baby ...  \n",
       "4980      0.500000  safoorazargar deserves better her unborn baby ...  \n",
       "...            ...                                                ...  \n",
       "2933      0.000000  we stand safoora🙋‍♂️ releasesafoorazargar rele...  \n",
       "2921      0.333333  the classic symptoms morning sickness include ...  \n",
       "2894      0.383333  ummatemuslima drshakirjalgaon abdurrahmanips a...  \n",
       "2857      0.750000  gabbar indiasmuslims subytweets khanumarfa lad...  \n",
       "5999      0.500000  pregnant lady jailed unacceptable reasons show...  \n",
       "\n",
       "[5988 rows x 12 columns]"
      ]
     },
     "execution_count": 137,
     "metadata": {},
     "output_type": "execute_result"
    }
   ],
   "source": [
    "data.sort_values(by='retweetcount',ascending=False)"
   ]
  },
  {
   "cell_type": "code",
   "execution_count": 138,
   "metadata": {},
   "outputs": [],
   "source": [
    "data.to_excel('tweet_data_comp.xlsx',index=False)"
   ]
  },
  {
   "cell_type": "code",
   "execution_count": null,
   "metadata": {},
   "outputs": [],
   "source": []
  },
  {
   "cell_type": "markdown",
   "metadata": {},
   "source": [
    "## Normalizing and Scaling the Data"
   ]
  },
  {
   "cell_type": "code",
   "execution_count": 22,
   "metadata": {},
   "outputs": [
    {
     "data": {
      "text/plain": [
       "StandardScaler(copy=True, with_mean=True, with_std=True)"
      ]
     },
     "execution_count": 22,
     "metadata": {},
     "output_type": "execute_result"
    }
   ],
   "source": [
    "Scaler=StandardScaler()\n",
    "Scaler.fit(data[['followers','retweetcount']])"
   ]
  },
  {
   "cell_type": "code",
   "execution_count": 24,
   "metadata": {},
   "outputs": [],
   "source": [
    "scaled_features=Scaler.transform(data[['followers','retweetcount']])"
   ]
  },
  {
   "cell_type": "code",
   "execution_count": 25,
   "metadata": {},
   "outputs": [],
   "source": [
    "for i in range(data.shape[0]):\n",
    "    data.loc[i,'scaled_followers']=scaled_features[i][0]\n",
    "    data.loc[i,'scaled_rtcount']=scaled_features[i][1]"
   ]
  },
  {
   "cell_type": "code",
   "execution_count": null,
   "metadata": {},
   "outputs": [],
   "source": []
  },
  {
   "cell_type": "markdown",
   "metadata": {},
   "source": [
    "### Plotting between number of retweets and their followers, with a hue on basis of polarity"
   ]
  },
  {
   "cell_type": "code",
   "execution_count": 57,
   "metadata": {},
   "outputs": [
    {
     "data": {
      "image/png": "[encoded data removed]",
      "text/plain": [
       "<Figure size 864x576 with 1 Axes>"
      ]
     },
     "metadata": {
      "needs_background": "light"
     },
     "output_type": "display_data"
    }
   ],
   "source": [
    "plt.figure(figsize=(12,8))\n",
    "ax = sns.scatterplot(x=\"followers\", y=\"retweetcount\",\n",
    "                     hue=\"polarity\",size='polarity', sizes=(10,100),\n",
    "                      data=data[(data['retweetcount']<4000) & (data['followers']<75000)])"
   ]
  },
  {
   "cell_type": "code",
   "execution_count": 40,
   "metadata": {},
   "outputs": [],
   "source": [
    "def mediate_polarity(point):\n",
    "    if point<=-.5:\n",
    "        return point\n",
    "    elif point>-0.5 and point<-0.4:\n",
    "        \n",
    "    elif point<-0.25 and point>-0.4:\n",
    "        return -0.4\n",
    "    elif point >-0.25 and point<0:\n",
    "        return -0.1\n",
    "    elif point>0 and point <0.1:\n",
    "        return 0\n",
    "    elif point>0.1 and point <0.3:\n",
    "        return 0.2\n",
    "    elif point >0.3 and point<0.5:\n",
    "        return 0.4\n",
    "    elif point>0.5:\n",
    "        return point"
   ]
  },
  {
   "cell_type": "code",
   "execution_count": 41,
   "metadata": {},
   "outputs": [],
   "source": [
    "data['mediated_polarity']=data['polarity'].apply(lambda x: mediate_polarity(x))"
   ]
  },
  {
   "cell_type": "code",
   "execution_count": null,
   "metadata": {},
   "outputs": [],
   "source": []
  },
  {
   "cell_type": "code",
   "execution_count": null,
   "metadata": {},
   "outputs": [],
   "source": []
  }
 ],
 "metadata": {
  "kernelspec": {
   "display_name": "Python 3",
   "language": "python",
   "name": "python3"
  },
  "language_info": {
   "codemirror_mode": {
    "name": "ipython",
    "version": 3
   },
   "file_extension": ".py",
   "mimetype": "text/x-python",
   "name": "python",
   "nbconvert_exporter": "python",
   "pygments_lexer": "ipython3",
   "version": "3.7.3"
  }
 },
 "nbformat": 4,
 "nbformat_minor": 4
}
